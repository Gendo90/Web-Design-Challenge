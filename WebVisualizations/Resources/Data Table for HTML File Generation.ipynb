{
 "cells": [
  {
   "cell_type": "markdown",
   "metadata": {},
   "source": [
    "# Data Table File Generation"
   ]
  },
  {
   "cell_type": "code",
   "execution_count": 1,
   "metadata": {},
   "outputs": [],
   "source": [
    "import pandas as pd"
   ]
  },
  {
   "cell_type": "code",
   "execution_count": 15,
   "metadata": {},
   "outputs": [
    {
     "data": {
      "text/html": [
       "<div>\n",
       "<style scoped>\n",
       "    .dataframe tbody tr th:only-of-type {\n",
       "        vertical-align: middle;\n",
       "    }\n",
       "\n",
       "    .dataframe tbody tr th {\n",
       "        vertical-align: top;\n",
       "    }\n",
       "\n",
       "    .dataframe thead th {\n",
       "        text-align: right;\n",
       "    }\n",
       "</style>\n",
       "<table border=\"1\" class=\"dataframe\">\n",
       "  <thead>\n",
       "    <tr style=\"text-align: right;\">\n",
       "      <th></th>\n",
       "      <th>City</th>\n",
       "      <th>Approx. Latitude</th>\n",
       "      <th>Approx. Longitude</th>\n",
       "      <th>Max Temperature (F)</th>\n",
       "      <th>Humidity (%)</th>\n",
       "      <th>Cloudiness</th>\n",
       "      <th>Wind Speed (mph)</th>\n",
       "      <th>Actual Latitude</th>\n",
       "      <th>Actual Longitude</th>\n",
       "      <th>Country</th>\n",
       "      <th>Datetime (Local)</th>\n",
       "    </tr>\n",
       "  </thead>\n",
       "  <tbody>\n",
       "    <tr>\n",
       "      <th>0</th>\n",
       "      <td>kloulklubed</td>\n",
       "      <td>3.222335</td>\n",
       "      <td>133.336777</td>\n",
       "      <td>75.20</td>\n",
       "      <td>94</td>\n",
       "      <td>75</td>\n",
       "      <td>9.82</td>\n",
       "      <td>7.04</td>\n",
       "      <td>134.26</td>\n",
       "      <td>PW</td>\n",
       "      <td>07/02/2020, 06:40:32</td>\n",
       "    </tr>\n",
       "    <tr>\n",
       "      <th>1</th>\n",
       "      <td>rikitea</td>\n",
       "      <td>-54.497065</td>\n",
       "      <td>-112.746685</td>\n",
       "      <td>69.12</td>\n",
       "      <td>69</td>\n",
       "      <td>15</td>\n",
       "      <td>21.74</td>\n",
       "      <td>-23.12</td>\n",
       "      <td>-134.97</td>\n",
       "      <td>PF</td>\n",
       "      <td>07/01/2020, 12:40:32</td>\n",
       "    </tr>\n",
       "    <tr>\n",
       "      <th>2</th>\n",
       "      <td>hami</td>\n",
       "      <td>39.870623</td>\n",
       "      <td>91.887579</td>\n",
       "      <td>74.89</td>\n",
       "      <td>20</td>\n",
       "      <td>52</td>\n",
       "      <td>7.70</td>\n",
       "      <td>42.80</td>\n",
       "      <td>93.45</td>\n",
       "      <td>CN</td>\n",
       "      <td>07/02/2020, 05:40:32</td>\n",
       "    </tr>\n",
       "    <tr>\n",
       "      <th>3</th>\n",
       "      <td>terrace bay</td>\n",
       "      <td>48.853837</td>\n",
       "      <td>-88.185405</td>\n",
       "      <td>77.00</td>\n",
       "      <td>53</td>\n",
       "      <td>20</td>\n",
       "      <td>5.82</td>\n",
       "      <td>48.78</td>\n",
       "      <td>-87.10</td>\n",
       "      <td>CA</td>\n",
       "      <td>07/01/2020, 17:40:33</td>\n",
       "    </tr>\n",
       "    <tr>\n",
       "      <th>4</th>\n",
       "      <td>saldanha</td>\n",
       "      <td>-40.961281</td>\n",
       "      <td>-3.791138</td>\n",
       "      <td>53.60</td>\n",
       "      <td>87</td>\n",
       "      <td>0</td>\n",
       "      <td>3.36</td>\n",
       "      <td>-33.01</td>\n",
       "      <td>17.94</td>\n",
       "      <td>ZA</td>\n",
       "      <td>07/01/2020, 23:40:33</td>\n",
       "    </tr>\n",
       "  </tbody>\n",
       "</table>\n",
       "</div>"
      ],
      "text/plain": [
       "          City  Approx. Latitude  Approx. Longitude  Max Temperature (F)  \\\n",
       "0  kloulklubed          3.222335         133.336777                75.20   \n",
       "1      rikitea        -54.497065        -112.746685                69.12   \n",
       "2         hami         39.870623          91.887579                74.89   \n",
       "3  terrace bay         48.853837         -88.185405                77.00   \n",
       "4     saldanha        -40.961281          -3.791138                53.60   \n",
       "\n",
       "   Humidity (%)  Cloudiness  Wind Speed (mph)  Actual Latitude  \\\n",
       "0            94          75              9.82             7.04   \n",
       "1            69          15             21.74           -23.12   \n",
       "2            20          52              7.70            42.80   \n",
       "3            53          20              5.82            48.78   \n",
       "4            87           0              3.36           -33.01   \n",
       "\n",
       "   Actual Longitude Country      Datetime (Local)  \n",
       "0            134.26      PW  07/02/2020, 06:40:32  \n",
       "1           -134.97      PF  07/01/2020, 12:40:32  \n",
       "2             93.45      CN  07/02/2020, 05:40:32  \n",
       "3            -87.10      CA  07/01/2020, 17:40:33  \n",
       "4             17.94      ZA  07/01/2020, 23:40:33  "
      ]
     },
     "execution_count": 15,
     "metadata": {},
     "output_type": "execute_result"
    }
   ],
   "source": [
    "data_table_df = pd.read_csv(\"./Retrieved_City_Weather_Data.csv\")\n",
    "data_table_df = data_table_df.drop(columns=\"Unnamed: 0\")\n",
    "data_table_df.head()"
   ]
  },
  {
   "cell_type": "code",
   "execution_count": 16,
   "metadata": {},
   "outputs": [],
   "source": [
    "data_table_df.to_html(buf=\"./html_formatted_table.txt\", classes=[\"table\", \"table-striped\"])\n"
   ]
  },
  {
   "cell_type": "code",
   "execution_count": null,
   "metadata": {},
   "outputs": [],
   "source": []
  }
 ],
 "metadata": {
  "kernelspec": {
   "display_name": "Python 3",
   "language": "python",
   "name": "python3"
  },
  "language_info": {
   "codemirror_mode": {
    "name": "ipython",
    "version": 3
   },
   "file_extension": ".py",
   "mimetype": "text/x-python",
   "name": "python",
   "nbconvert_exporter": "python",
   "pygments_lexer": "ipython3",
   "version": "3.7.6"
  }
 },
 "nbformat": 4,
 "nbformat_minor": 4
}
